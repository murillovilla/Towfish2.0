{
 "cells": [
  {
   "cell_type": "code",
   "execution_count": null,
   "metadata": {
    "collapsed": true
   },
   "outputs": [],
   "source": [
    "##Teste escrever em excel\n",
    "import xlwings as xw\n",
    "import time"
   ]
  },
  {
   "cell_type": "code",
   "execution_count": null,
   "metadata": {
    "collapsed": true
   },
   "outputs": [],
   "source": [
    "wb = xw.Book()\n",
    "sht = wb.sheets['Sheet1']"
   ]
  },
  {
   "cell_type": "code",
   "execution_count": null,
   "metadata": {
    "collapsed": true
   },
   "outputs": [],
   "source": [
    "arduino_data_excel = [['99', '13\\n']]"
   ]
  },
  {
   "cell_type": "code",
   "execution_count": null,
   "metadata": {
    "collapsed": true
   },
   "outputs": [],
   "source": [
    "print arduino_data_excel[1]"
   ]
  },
  {
   "cell_type": "code",
   "execution_count": null,
   "metadata": {
    "collapsed": true
   },
   "outputs": [],
   "source": [
    "sht.range(2,1).value = arduino_data_excel"
   ]
  },
  {
   "cell_type": "code",
   "execution_count": null,
   "metadata": {
    "collapsed": true
   },
   "outputs": [],
   "source": [
    "count_row =1"
   ]
  },
  {
   "cell_type": "code",
   "execution_count": null,
   "metadata": {
    "collapsed": true
   },
   "outputs": [],
   "source": [
    "def excel_write(data):\n",
    "    global count_row\n",
    "    sht.range(count_row,1).value = data[0]\n",
    "    sht.range(count_row,3).value = data[1]\n",
    "    count_row +=1\n",
    "    "
   ]
  },
  {
   "cell_type": "code",
   "execution_count": null,
   "metadata": {
    "collapsed": true
   },
   "outputs": [],
   "source": [
    "\n",
    "time.sleep(0.1)\n",
    "excel_write(arduino_data_excel)\n",
    "    \n",
    "    "
   ]
  },
  {
   "cell_type": "code",
   "execution_count": null,
   "metadata": {
    "collapsed": true
   },
   "outputs": [],
   "source": [
    "newTime = str(time.localtime().tm_sec)"
   ]
  },
  {
   "cell_type": "code",
   "execution_count": null,
   "metadata": {
    "collapsed": true
   },
   "outputs": [],
   "source": []
  },
  {
   "cell_type": "code",
   "execution_count": null,
   "metadata": {
    "collapsed": true
   },
   "outputs": [],
   "source": [
    "type(newTime)"
   ]
  },
  {
   "cell_type": "code",
   "execution_count": null,
   "metadata": {
    "collapsed": true
   },
   "outputs": [],
   "source": [
    "arduino_data_excel.append(newTime)"
   ]
  },
  {
   "cell_type": "code",
   "execution_count": null,
   "metadata": {
    "collapsed": true
   },
   "outputs": [],
   "source": [
    "print arduino_data_excel"
   ]
  },
  {
   "cell_type": "code",
   "execution_count": null,
   "metadata": {
    "collapsed": true
   },
   "outputs": [],
   "source": [
    "sht.range(1,1).value = arduino_data_excel"
   ]
  },
  {
   "cell_type": "code",
   "execution_count": null,
   "metadata": {
    "collapsed": true
   },
   "outputs": [],
   "source": [
    "sht.clear()"
   ]
  },
  {
   "cell_type": "code",
   "execution_count": 31,
   "metadata": {},
   "outputs": [
    {
     "name": "stdout",
     "output_type": "stream",
     "text": [
      "('193', ',', '123\\n')\n"
     ]
    }
   ],
   "source": [
    "data = \"193,123\\n\"\n",
    "data_split = data.partition(',')\n",
    "print data_split"
   ]
  },
  {
   "cell_type": "code",
   "execution_count": 32,
   "metadata": {
    "collapsed": true,
    "scrolled": false
   },
   "outputs": [],
   "source": [
    "import serial\n",
    "import xlwings as xw\n",
    "import time\n",
    "\n",
    "wb = xw.Book()\n",
    "sht = wb.sheets['Sheet1']\n",
    "#sht.range('A1').value = \"Profundidade\"\n",
    "#sht.range('B1').value = \"Angulo de Pitch\"\n"
   ]
  },
  {
   "cell_type": "code",
   "execution_count": 33,
   "metadata": {
    "collapsed": true
   },
   "outputs": [],
   "source": [
    "count_row = 2\n",
    "for number in range(15):\n",
    "    sht.range(count_row,1).value = data\n",
    "    count_row += 1"
   ]
  },
  {
   "cell_type": "code",
   "execution_count": 1,
   "metadata": {
    "collapsed": true
   },
   "outputs": [],
   "source": [
    "##2/2/2018 -----Contruir código para comunicação Serial///Fazer testes com sys///Checar versões"
   ]
  },
  {
   "cell_type": "code",
   "execution_count": 13,
   "metadata": {},
   "outputs": [],
   "source": [
    "import sys"
   ]
  },
  {
   "cell_type": "code",
   "execution_count": 19,
   "metadata": {},
   "outputs": [
    {
     "data": {
      "text/plain": [
       "'win32'"
      ]
     },
     "execution_count": 19,
     "metadata": {},
     "output_type": "execute_result"
    }
   ],
   "source": [
    "sys.platform"
   ]
  },
  {
   "cell_type": "code",
   "execution_count": 20,
   "metadata": {
    "collapsed": true
   },
   "outputs": [],
   "source": [
    "port = None"
   ]
  },
  {
   "cell_type": "code",
   "execution_count": 21,
   "metadata": {},
   "outputs": [
    {
     "data": {
      "text/plain": [
       "True"
      ]
     },
     "execution_count": 21,
     "metadata": {},
     "output_type": "execute_result"
    }
   ],
   "source": [
    "not port"
   ]
  },
  {
   "cell_type": "code",
   "execution_count": 23,
   "metadata": {},
   "outputs": [
    {
     "name": "stdout",
     "output_type": "stream",
     "text": [
      "None\n"
     ]
    }
   ],
   "source": [
    "print port"
   ]
  },
  {
   "cell_type": "code",
   "execution_count": null,
   "metadata": {},
   "outputs": [],
   "source": []
  },
  {
   "cell_type": "code",
   "execution_count": 34,
   "metadata": {},
   "outputs": [
    {
     "name": "stdout",
     "output_type": "stream",
     "text": [
      "First Module's Name: __main__\n"
     ]
    }
   ],
   "source": [
    "print \"First Module's Name: {}\".format(__name__)"
   ]
  },
  {
   "cell_type": "code",
   "execution_count": 36,
   "metadata": {
    "collapsed": true
   },
   "outputs": [],
   "source": [
    "##2/2/2018 Testes usando logging"
   ]
  },
  {
   "cell_type": "code",
   "execution_count": 50,
   "metadata": {},
   "outputs": [],
   "source": [
    "import logging\n",
    "\n",
    "#Level\n",
    "#When it’s used\n",
    "#DEBUG\n",
    "#Detailed information, typically of interest only when diagnosing problems.\n",
    "#INFO\n",
    "#Confirmation that things are working as expected.\n",
    "#WARNING\n",
    "#An indication that something unexpected happened, or indicative of some problem in the near future (e.g. ‘disk space low’). The software is still working as expected.\n",
    "#ERROR\n",
    "#Due to a more serious problem, the software has not been able to perform some function.\n",
    "#CRITICAL\n",
    "#A serious error, indicating that the program itself may be unable to continue running.\n",
    "\n",
    "\n",
    "logging.basicConfig(filename='test.log',level=logging.DEBUG)\n",
    "\n",
    "\n",
    "def add(x,y):\n",
    "    return x+y\n",
    "\n",
    "def subtract(x,y):\n",
    "    return x-y\n",
    "\n",
    "def multiply(x,y):\n",
    "    return x*y\n",
    "\n",
    "def divide(x,y):\n",
    "    return x/y\n",
    "\n",
    "num_1 = 10\n",
    "num_2 = 2.0\n",
    "\n",
    "add_result = add(num_1,num_2)\n",
    "logging.debug(\"Add: {} + {} = {}\".format(num_1,num_2,add_result))\n",
    "subtract_result = subtract(num_1,num_2)\n",
    "logging.debug(\"Add: {} + {} = {}\".format(num_1,num_2,subtract_result))\n",
    "multiply_result = multiply(num_1,num_2)\n",
    "logging.debug(\"Add: {} + {} = {}\".format(num_1,num_2,multiply_result))\n",
    "divide_result = divide(num_1,num_2)\n",
    "logging.debug(\"Add: {} + {} = {}\".format(num_1,num_2,divide_result))"
   ]
  },
  {
   "cell_type": "code",
   "execution_count": null,
   "metadata": {
    "collapsed": true
   },
   "outputs": [],
   "source": []
  }
 ],
 "metadata": {
  "kernelspec": {
   "display_name": "Python 2",
   "language": "python",
   "name": "python2"
  },
  "language_info": {
   "codemirror_mode": {
    "name": "ipython",
    "version": 2
   },
   "file_extension": ".py",
   "mimetype": "text/x-python",
   "name": "python",
   "nbconvert_exporter": "python",
   "pygments_lexer": "ipython2",
   "version": "2.7.13"
  }
 },
 "nbformat": 4,
 "nbformat_minor": 2
}
